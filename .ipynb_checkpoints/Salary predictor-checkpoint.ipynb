{
 "cells": [
  {
   "cell_type": "code",
   "execution_count": 1,
   "id": "e7466ee5",
   "metadata": {},
   "outputs": [],
   "source": [
    "import pandas as pd\n",
    "import numpy as np \n",
    "import matplotlib.pyplot as plt"
   ]
  },
  {
   "cell_type": "code",
   "execution_count": 2,
   "id": "1c03aa12",
   "metadata": {},
   "outputs": [
    {
     "data": {
      "text/html": [
       "<div>\n",
       "<style scoped>\n",
       "    .dataframe tbody tr th:only-of-type {\n",
       "        vertical-align: middle;\n",
       "    }\n",
       "\n",
       "    .dataframe tbody tr th {\n",
       "        vertical-align: top;\n",
       "    }\n",
       "\n",
       "    .dataframe thead th {\n",
       "        text-align: right;\n",
       "    }\n",
       "</style>\n",
       "<table border=\"1\" class=\"dataframe\">\n",
       "  <thead>\n",
       "    <tr style=\"text-align: right;\">\n",
       "      <th></th>\n",
       "      <th>ResponseId</th>\n",
       "      <th>Q120</th>\n",
       "      <th>MainBranch</th>\n",
       "      <th>Age</th>\n",
       "      <th>Employment</th>\n",
       "      <th>RemoteWork</th>\n",
       "      <th>CodingActivities</th>\n",
       "      <th>EdLevel</th>\n",
       "      <th>LearnCode</th>\n",
       "      <th>LearnCodeOnline</th>\n",
       "      <th>...</th>\n",
       "      <th>Frequency_1</th>\n",
       "      <th>Frequency_2</th>\n",
       "      <th>Frequency_3</th>\n",
       "      <th>TimeSearching</th>\n",
       "      <th>TimeAnswering</th>\n",
       "      <th>ProfessionalTech</th>\n",
       "      <th>Industry</th>\n",
       "      <th>SurveyLength</th>\n",
       "      <th>SurveyEase</th>\n",
       "      <th>ConvertedCompYearly</th>\n",
       "    </tr>\n",
       "  </thead>\n",
       "  <tbody>\n",
       "    <tr>\n",
       "      <th>0</th>\n",
       "      <td>1</td>\n",
       "      <td>I agree</td>\n",
       "      <td>None of these</td>\n",
       "      <td>18-24 years old</td>\n",
       "      <td>NaN</td>\n",
       "      <td>NaN</td>\n",
       "      <td>NaN</td>\n",
       "      <td>NaN</td>\n",
       "      <td>NaN</td>\n",
       "      <td>NaN</td>\n",
       "      <td>...</td>\n",
       "      <td>NaN</td>\n",
       "      <td>NaN</td>\n",
       "      <td>NaN</td>\n",
       "      <td>NaN</td>\n",
       "      <td>NaN</td>\n",
       "      <td>NaN</td>\n",
       "      <td>NaN</td>\n",
       "      <td>NaN</td>\n",
       "      <td>NaN</td>\n",
       "      <td>NaN</td>\n",
       "    </tr>\n",
       "    <tr>\n",
       "      <th>1</th>\n",
       "      <td>2</td>\n",
       "      <td>I agree</td>\n",
       "      <td>I am a developer by profession</td>\n",
       "      <td>25-34 years old</td>\n",
       "      <td>Employed, full-time</td>\n",
       "      <td>Remote</td>\n",
       "      <td>Hobby;Contribute to open-source projects;Boots...</td>\n",
       "      <td>Bachelor’s degree (B.A., B.S., B.Eng., etc.)</td>\n",
       "      <td>Books / Physical media;Colleague;Friend or fam...</td>\n",
       "      <td>Formal documentation provided by the owner of ...</td>\n",
       "      <td>...</td>\n",
       "      <td>1-2 times a week</td>\n",
       "      <td>10+ times a week</td>\n",
       "      <td>Never</td>\n",
       "      <td>15-30 minutes a day</td>\n",
       "      <td>15-30 minutes a day</td>\n",
       "      <td>DevOps function;Microservices;Automated testin...</td>\n",
       "      <td>Information Services, IT, Software Development...</td>\n",
       "      <td>Appropriate in length</td>\n",
       "      <td>Easy</td>\n",
       "      <td>285000.0</td>\n",
       "    </tr>\n",
       "    <tr>\n",
       "      <th>2</th>\n",
       "      <td>3</td>\n",
       "      <td>I agree</td>\n",
       "      <td>I am a developer by profession</td>\n",
       "      <td>45-54 years old</td>\n",
       "      <td>Employed, full-time</td>\n",
       "      <td>Hybrid (some remote, some in-person)</td>\n",
       "      <td>Hobby;Professional development or self-paced l...</td>\n",
       "      <td>Bachelor’s degree (B.A., B.S., B.Eng., etc.)</td>\n",
       "      <td>Books / Physical media;Colleague;On the job tr...</td>\n",
       "      <td>Formal documentation provided by the owner of ...</td>\n",
       "      <td>...</td>\n",
       "      <td>6-10 times a week</td>\n",
       "      <td>6-10 times a week</td>\n",
       "      <td>3-5 times a week</td>\n",
       "      <td>30-60 minutes a day</td>\n",
       "      <td>30-60 minutes a day</td>\n",
       "      <td>DevOps function;Microservices;Automated testin...</td>\n",
       "      <td>Information Services, IT, Software Development...</td>\n",
       "      <td>Appropriate in length</td>\n",
       "      <td>Easy</td>\n",
       "      <td>250000.0</td>\n",
       "    </tr>\n",
       "    <tr>\n",
       "      <th>3</th>\n",
       "      <td>4</td>\n",
       "      <td>I agree</td>\n",
       "      <td>I am a developer by profession</td>\n",
       "      <td>25-34 years old</td>\n",
       "      <td>Employed, full-time</td>\n",
       "      <td>Hybrid (some remote, some in-person)</td>\n",
       "      <td>Hobby</td>\n",
       "      <td>Bachelor’s degree (B.A., B.S., B.Eng., etc.)</td>\n",
       "      <td>Colleague;Friend or family member;Other online...</td>\n",
       "      <td>Formal documentation provided by the owner of ...</td>\n",
       "      <td>...</td>\n",
       "      <td>1-2 times a week</td>\n",
       "      <td>10+ times a week</td>\n",
       "      <td>1-2 times a week</td>\n",
       "      <td>15-30 minutes a day</td>\n",
       "      <td>30-60 minutes a day</td>\n",
       "      <td>Automated testing;Continuous integration (CI) ...</td>\n",
       "      <td>NaN</td>\n",
       "      <td>Appropriate in length</td>\n",
       "      <td>Easy</td>\n",
       "      <td>156000.0</td>\n",
       "    </tr>\n",
       "    <tr>\n",
       "      <th>4</th>\n",
       "      <td>5</td>\n",
       "      <td>I agree</td>\n",
       "      <td>I am a developer by profession</td>\n",
       "      <td>25-34 years old</td>\n",
       "      <td>Employed, full-time;Independent contractor, fr...</td>\n",
       "      <td>Remote</td>\n",
       "      <td>Hobby;Contribute to open-source projects;Profe...</td>\n",
       "      <td>Bachelor’s degree (B.A., B.S., B.Eng., etc.)</td>\n",
       "      <td>Books / Physical media;Online Courses or Certi...</td>\n",
       "      <td>Formal documentation provided by the owner of ...</td>\n",
       "      <td>...</td>\n",
       "      <td>1-2 times a week</td>\n",
       "      <td>1-2 times a week</td>\n",
       "      <td>3-5 times a week</td>\n",
       "      <td>60-120 minutes a day</td>\n",
       "      <td>30-60 minutes a day</td>\n",
       "      <td>Microservices;Automated testing;Observability ...</td>\n",
       "      <td>Other</td>\n",
       "      <td>Appropriate in length</td>\n",
       "      <td>Neither easy nor difficult</td>\n",
       "      <td>23456.0</td>\n",
       "    </tr>\n",
       "    <tr>\n",
       "      <th>...</th>\n",
       "      <td>...</td>\n",
       "      <td>...</td>\n",
       "      <td>...</td>\n",
       "      <td>...</td>\n",
       "      <td>...</td>\n",
       "      <td>...</td>\n",
       "      <td>...</td>\n",
       "      <td>...</td>\n",
       "      <td>...</td>\n",
       "      <td>...</td>\n",
       "      <td>...</td>\n",
       "      <td>...</td>\n",
       "      <td>...</td>\n",
       "      <td>...</td>\n",
       "      <td>...</td>\n",
       "      <td>...</td>\n",
       "      <td>...</td>\n",
       "      <td>...</td>\n",
       "      <td>...</td>\n",
       "      <td>...</td>\n",
       "      <td>...</td>\n",
       "    </tr>\n",
       "    <tr>\n",
       "      <th>89179</th>\n",
       "      <td>89180</td>\n",
       "      <td>I agree</td>\n",
       "      <td>I am a developer by profession</td>\n",
       "      <td>25-34 years old</td>\n",
       "      <td>Employed, full-time;Independent contractor, fr...</td>\n",
       "      <td>Remote</td>\n",
       "      <td>Hobby;Bootstrapping a business;Freelance/contr...</td>\n",
       "      <td>Associate degree (A.A., A.S., etc.)</td>\n",
       "      <td>Online Courses or Certification;Other online r...</td>\n",
       "      <td>Formal documentation provided by the owner of ...</td>\n",
       "      <td>...</td>\n",
       "      <td>NaN</td>\n",
       "      <td>NaN</td>\n",
       "      <td>NaN</td>\n",
       "      <td>NaN</td>\n",
       "      <td>NaN</td>\n",
       "      <td>NaN</td>\n",
       "      <td>NaN</td>\n",
       "      <td>Too long</td>\n",
       "      <td>Neither easy nor difficult</td>\n",
       "      <td>NaN</td>\n",
       "    </tr>\n",
       "    <tr>\n",
       "      <th>89180</th>\n",
       "      <td>89181</td>\n",
       "      <td>I agree</td>\n",
       "      <td>I am a developer by profession</td>\n",
       "      <td>18-24 years old</td>\n",
       "      <td>Student, full-time;Employed, part-time</td>\n",
       "      <td>Hybrid (some remote, some in-person)</td>\n",
       "      <td>School or academic work</td>\n",
       "      <td>Bachelor’s degree (B.A., B.S., B.Eng., etc.)</td>\n",
       "      <td>Colleague;Online Courses or Certification;Othe...</td>\n",
       "      <td>Formal documentation provided by the owner of ...</td>\n",
       "      <td>...</td>\n",
       "      <td>NaN</td>\n",
       "      <td>NaN</td>\n",
       "      <td>NaN</td>\n",
       "      <td>NaN</td>\n",
       "      <td>NaN</td>\n",
       "      <td>NaN</td>\n",
       "      <td>NaN</td>\n",
       "      <td>Too long</td>\n",
       "      <td>Easy</td>\n",
       "      <td>NaN</td>\n",
       "    </tr>\n",
       "    <tr>\n",
       "      <th>89181</th>\n",
       "      <td>89182</td>\n",
       "      <td>I agree</td>\n",
       "      <td>I code primarily as a hobby</td>\n",
       "      <td>Prefer not to say</td>\n",
       "      <td>I prefer not to say</td>\n",
       "      <td>NaN</td>\n",
       "      <td>NaN</td>\n",
       "      <td>Something else</td>\n",
       "      <td>Books / Physical media;Hackathons (virtual or ...</td>\n",
       "      <td>NaN</td>\n",
       "      <td>...</td>\n",
       "      <td>NaN</td>\n",
       "      <td>NaN</td>\n",
       "      <td>NaN</td>\n",
       "      <td>NaN</td>\n",
       "      <td>NaN</td>\n",
       "      <td>NaN</td>\n",
       "      <td>NaN</td>\n",
       "      <td>Too long</td>\n",
       "      <td>Neither easy nor difficult</td>\n",
       "      <td>NaN</td>\n",
       "    </tr>\n",
       "    <tr>\n",
       "      <th>89182</th>\n",
       "      <td>89183</td>\n",
       "      <td>I agree</td>\n",
       "      <td>I am a developer by profession</td>\n",
       "      <td>Under 18 years old</td>\n",
       "      <td>Employed, part-time;Student, part-time</td>\n",
       "      <td>Hybrid (some remote, some in-person)</td>\n",
       "      <td>Hobby;School or academic work</td>\n",
       "      <td>Secondary school (e.g. American high school, G...</td>\n",
       "      <td>Online Courses or Certification;Other online r...</td>\n",
       "      <td>Formal documentation provided by the owner of ...</td>\n",
       "      <td>...</td>\n",
       "      <td>NaN</td>\n",
       "      <td>NaN</td>\n",
       "      <td>NaN</td>\n",
       "      <td>NaN</td>\n",
       "      <td>NaN</td>\n",
       "      <td>NaN</td>\n",
       "      <td>NaN</td>\n",
       "      <td>Appropriate in length</td>\n",
       "      <td>Neither easy nor difficult</td>\n",
       "      <td>NaN</td>\n",
       "    </tr>\n",
       "    <tr>\n",
       "      <th>89183</th>\n",
       "      <td>89184</td>\n",
       "      <td>I agree</td>\n",
       "      <td>I am a developer by profession</td>\n",
       "      <td>35-44 years old</td>\n",
       "      <td>Employed, full-time</td>\n",
       "      <td>Hybrid (some remote, some in-person)</td>\n",
       "      <td>Hobby;Professional development or self-paced l...</td>\n",
       "      <td>Bachelor’s degree (B.A., B.S., B.Eng., etc.)</td>\n",
       "      <td>Colleague;Online Courses or Certification;Othe...</td>\n",
       "      <td>Formal documentation provided by the owner of ...</td>\n",
       "      <td>...</td>\n",
       "      <td>Never</td>\n",
       "      <td>1-2 times a week</td>\n",
       "      <td>1-2 times a week</td>\n",
       "      <td>60-120 minutes a day</td>\n",
       "      <td>30-60 minutes a day</td>\n",
       "      <td>DevOps function;Developer portal or other cent...</td>\n",
       "      <td>Information Services, IT, Software Development...</td>\n",
       "      <td>Appropriate in length</td>\n",
       "      <td>Easy</td>\n",
       "      <td>NaN</td>\n",
       "    </tr>\n",
       "  </tbody>\n",
       "</table>\n",
       "<p>89184 rows × 84 columns</p>\n",
       "</div>"
      ],
      "text/plain": [
       "       ResponseId     Q120                      MainBranch  \\\n",
       "0               1  I agree                   None of these   \n",
       "1               2  I agree  I am a developer by profession   \n",
       "2               3  I agree  I am a developer by profession   \n",
       "3               4  I agree  I am a developer by profession   \n",
       "4               5  I agree  I am a developer by profession   \n",
       "...           ...      ...                             ...   \n",
       "89179       89180  I agree  I am a developer by profession   \n",
       "89180       89181  I agree  I am a developer by profession   \n",
       "89181       89182  I agree     I code primarily as a hobby   \n",
       "89182       89183  I agree  I am a developer by profession   \n",
       "89183       89184  I agree  I am a developer by profession   \n",
       "\n",
       "                      Age                                         Employment  \\\n",
       "0         18-24 years old                                                NaN   \n",
       "1         25-34 years old                                Employed, full-time   \n",
       "2         45-54 years old                                Employed, full-time   \n",
       "3         25-34 years old                                Employed, full-time   \n",
       "4         25-34 years old  Employed, full-time;Independent contractor, fr...   \n",
       "...                   ...                                                ...   \n",
       "89179     25-34 years old  Employed, full-time;Independent contractor, fr...   \n",
       "89180     18-24 years old             Student, full-time;Employed, part-time   \n",
       "89181   Prefer not to say                                I prefer not to say   \n",
       "89182  Under 18 years old             Employed, part-time;Student, part-time   \n",
       "89183     35-44 years old                                Employed, full-time   \n",
       "\n",
       "                                 RemoteWork  \\\n",
       "0                                       NaN   \n",
       "1                                    Remote   \n",
       "2      Hybrid (some remote, some in-person)   \n",
       "3      Hybrid (some remote, some in-person)   \n",
       "4                                    Remote   \n",
       "...                                     ...   \n",
       "89179                                Remote   \n",
       "89180  Hybrid (some remote, some in-person)   \n",
       "89181                                   NaN   \n",
       "89182  Hybrid (some remote, some in-person)   \n",
       "89183  Hybrid (some remote, some in-person)   \n",
       "\n",
       "                                        CodingActivities  \\\n",
       "0                                                    NaN   \n",
       "1      Hobby;Contribute to open-source projects;Boots...   \n",
       "2      Hobby;Professional development or self-paced l...   \n",
       "3                                                  Hobby   \n",
       "4      Hobby;Contribute to open-source projects;Profe...   \n",
       "...                                                  ...   \n",
       "89179  Hobby;Bootstrapping a business;Freelance/contr...   \n",
       "89180                            School or academic work   \n",
       "89181                                                NaN   \n",
       "89182                      Hobby;School or academic work   \n",
       "89183  Hobby;Professional development or self-paced l...   \n",
       "\n",
       "                                                 EdLevel  \\\n",
       "0                                                    NaN   \n",
       "1           Bachelor’s degree (B.A., B.S., B.Eng., etc.)   \n",
       "2           Bachelor’s degree (B.A., B.S., B.Eng., etc.)   \n",
       "3           Bachelor’s degree (B.A., B.S., B.Eng., etc.)   \n",
       "4           Bachelor’s degree (B.A., B.S., B.Eng., etc.)   \n",
       "...                                                  ...   \n",
       "89179                Associate degree (A.A., A.S., etc.)   \n",
       "89180       Bachelor’s degree (B.A., B.S., B.Eng., etc.)   \n",
       "89181                                     Something else   \n",
       "89182  Secondary school (e.g. American high school, G...   \n",
       "89183       Bachelor’s degree (B.A., B.S., B.Eng., etc.)   \n",
       "\n",
       "                                               LearnCode  \\\n",
       "0                                                    NaN   \n",
       "1      Books / Physical media;Colleague;Friend or fam...   \n",
       "2      Books / Physical media;Colleague;On the job tr...   \n",
       "3      Colleague;Friend or family member;Other online...   \n",
       "4      Books / Physical media;Online Courses or Certi...   \n",
       "...                                                  ...   \n",
       "89179  Online Courses or Certification;Other online r...   \n",
       "89180  Colleague;Online Courses or Certification;Othe...   \n",
       "89181  Books / Physical media;Hackathons (virtual or ...   \n",
       "89182  Online Courses or Certification;Other online r...   \n",
       "89183  Colleague;Online Courses or Certification;Othe...   \n",
       "\n",
       "                                         LearnCodeOnline  ...  \\\n",
       "0                                                    NaN  ...   \n",
       "1      Formal documentation provided by the owner of ...  ...   \n",
       "2      Formal documentation provided by the owner of ...  ...   \n",
       "3      Formal documentation provided by the owner of ...  ...   \n",
       "4      Formal documentation provided by the owner of ...  ...   \n",
       "...                                                  ...  ...   \n",
       "89179  Formal documentation provided by the owner of ...  ...   \n",
       "89180  Formal documentation provided by the owner of ...  ...   \n",
       "89181                                                NaN  ...   \n",
       "89182  Formal documentation provided by the owner of ...  ...   \n",
       "89183  Formal documentation provided by the owner of ...  ...   \n",
       "\n",
       "             Frequency_1        Frequency_2       Frequency_3  \\\n",
       "0                    NaN                NaN               NaN   \n",
       "1       1-2 times a week   10+ times a week             Never   \n",
       "2      6-10 times a week  6-10 times a week  3-5 times a week   \n",
       "3       1-2 times a week   10+ times a week  1-2 times a week   \n",
       "4       1-2 times a week   1-2 times a week  3-5 times a week   \n",
       "...                  ...                ...               ...   \n",
       "89179                NaN                NaN               NaN   \n",
       "89180                NaN                NaN               NaN   \n",
       "89181                NaN                NaN               NaN   \n",
       "89182                NaN                NaN               NaN   \n",
       "89183              Never   1-2 times a week  1-2 times a week   \n",
       "\n",
       "              TimeSearching        TimeAnswering  \\\n",
       "0                       NaN                  NaN   \n",
       "1       15-30 minutes a day  15-30 minutes a day   \n",
       "2       30-60 minutes a day  30-60 minutes a day   \n",
       "3       15-30 minutes a day  30-60 minutes a day   \n",
       "4      60-120 minutes a day  30-60 minutes a day   \n",
       "...                     ...                  ...   \n",
       "89179                   NaN                  NaN   \n",
       "89180                   NaN                  NaN   \n",
       "89181                   NaN                  NaN   \n",
       "89182                   NaN                  NaN   \n",
       "89183  60-120 minutes a day  30-60 minutes a day   \n",
       "\n",
       "                                        ProfessionalTech  \\\n",
       "0                                                    NaN   \n",
       "1      DevOps function;Microservices;Automated testin...   \n",
       "2      DevOps function;Microservices;Automated testin...   \n",
       "3      Automated testing;Continuous integration (CI) ...   \n",
       "4      Microservices;Automated testing;Observability ...   \n",
       "...                                                  ...   \n",
       "89179                                                NaN   \n",
       "89180                                                NaN   \n",
       "89181                                                NaN   \n",
       "89182                                                NaN   \n",
       "89183  DevOps function;Developer portal or other cent...   \n",
       "\n",
       "                                                Industry  \\\n",
       "0                                                    NaN   \n",
       "1      Information Services, IT, Software Development...   \n",
       "2      Information Services, IT, Software Development...   \n",
       "3                                                    NaN   \n",
       "4                                                  Other   \n",
       "...                                                  ...   \n",
       "89179                                                NaN   \n",
       "89180                                                NaN   \n",
       "89181                                                NaN   \n",
       "89182                                                NaN   \n",
       "89183  Information Services, IT, Software Development...   \n",
       "\n",
       "                SurveyLength                  SurveyEase ConvertedCompYearly  \n",
       "0                        NaN                         NaN                 NaN  \n",
       "1      Appropriate in length                        Easy            285000.0  \n",
       "2      Appropriate in length                        Easy            250000.0  \n",
       "3      Appropriate in length                        Easy            156000.0  \n",
       "4      Appropriate in length  Neither easy nor difficult             23456.0  \n",
       "...                      ...                         ...                 ...  \n",
       "89179               Too long  Neither easy nor difficult                 NaN  \n",
       "89180               Too long                        Easy                 NaN  \n",
       "89181               Too long  Neither easy nor difficult                 NaN  \n",
       "89182  Appropriate in length  Neither easy nor difficult                 NaN  \n",
       "89183  Appropriate in length                        Easy                 NaN  \n",
       "\n",
       "[89184 rows x 84 columns]"
      ]
     },
     "execution_count": 2,
     "metadata": {},
     "output_type": "execute_result"
    }
   ],
   "source": [
    "df = pd.read_csv(\"survey_results_public.csv\")\n",
    "df"
   ]
  },
  {
   "cell_type": "code",
   "execution_count": 3,
   "id": "7c90b7ec",
   "metadata": {},
   "outputs": [],
   "source": [
    "df = df.loc[:, ['EdLevel', 'Country', 'ConvertedCompYearly', 'YearsCodePro']]"
   ]
  },
  {
   "cell_type": "code",
   "execution_count": 4,
   "id": "5c266293",
   "metadata": {},
   "outputs": [],
   "source": [
    "df = df.rename({'ConvertedCompYearly': 'Salary'}, axis=1)"
   ]
  },
  {
   "cell_type": "code",
   "execution_count": 5,
   "id": "2fc56ec6",
   "metadata": {},
   "outputs": [],
   "source": [
    "#dropping NaN \n",
    "df = df.dropna()"
   ]
  },
  {
   "cell_type": "code",
   "execution_count": 6,
   "id": "02ff5f45",
   "metadata": {
    "scrolled": true
   },
   "outputs": [
    {
     "data": {
      "text/html": [
       "<div>\n",
       "<style scoped>\n",
       "    .dataframe tbody tr th:only-of-type {\n",
       "        vertical-align: middle;\n",
       "    }\n",
       "\n",
       "    .dataframe tbody tr th {\n",
       "        vertical-align: top;\n",
       "    }\n",
       "\n",
       "    .dataframe thead th {\n",
       "        text-align: right;\n",
       "    }\n",
       "</style>\n",
       "<table border=\"1\" class=\"dataframe\">\n",
       "  <thead>\n",
       "    <tr style=\"text-align: right;\">\n",
       "      <th></th>\n",
       "      <th>EdLevel</th>\n",
       "      <th>Country</th>\n",
       "      <th>Salary</th>\n",
       "      <th>YearsCodePro</th>\n",
       "    </tr>\n",
       "  </thead>\n",
       "  <tbody>\n",
       "    <tr>\n",
       "      <th>1</th>\n",
       "      <td>Bachelor’s degree (B.A., B.S., B.Eng., etc.)</td>\n",
       "      <td>United States of America</td>\n",
       "      <td>285000.0</td>\n",
       "      <td>9</td>\n",
       "    </tr>\n",
       "    <tr>\n",
       "      <th>2</th>\n",
       "      <td>Bachelor’s degree (B.A., B.S., B.Eng., etc.)</td>\n",
       "      <td>United States of America</td>\n",
       "      <td>250000.0</td>\n",
       "      <td>23</td>\n",
       "    </tr>\n",
       "    <tr>\n",
       "      <th>3</th>\n",
       "      <td>Bachelor’s degree (B.A., B.S., B.Eng., etc.)</td>\n",
       "      <td>United States of America</td>\n",
       "      <td>156000.0</td>\n",
       "      <td>7</td>\n",
       "    </tr>\n",
       "    <tr>\n",
       "      <th>4</th>\n",
       "      <td>Bachelor’s degree (B.A., B.S., B.Eng., etc.)</td>\n",
       "      <td>Philippines</td>\n",
       "      <td>23456.0</td>\n",
       "      <td>4</td>\n",
       "    </tr>\n",
       "    <tr>\n",
       "      <th>5</th>\n",
       "      <td>Some college/university study without earning ...</td>\n",
       "      <td>United Kingdom of Great Britain and Northern I...</td>\n",
       "      <td>96828.0</td>\n",
       "      <td>21</td>\n",
       "    </tr>\n",
       "    <tr>\n",
       "      <th>...</th>\n",
       "      <td>...</td>\n",
       "      <td>...</td>\n",
       "      <td>...</td>\n",
       "      <td>...</td>\n",
       "    </tr>\n",
       "    <tr>\n",
       "      <th>89162</th>\n",
       "      <td>Master’s degree (M.A., M.S., M.Eng., MBA, etc.)</td>\n",
       "      <td>Brazil</td>\n",
       "      <td>50719.0</td>\n",
       "      <td>24</td>\n",
       "    </tr>\n",
       "    <tr>\n",
       "      <th>89166</th>\n",
       "      <td>Some college/university study without earning ...</td>\n",
       "      <td>Armenia</td>\n",
       "      <td>16917.0</td>\n",
       "      <td>2</td>\n",
       "    </tr>\n",
       "    <tr>\n",
       "      <th>89167</th>\n",
       "      <td>Bachelor’s degree (B.A., B.S., B.Eng., etc.)</td>\n",
       "      <td>India</td>\n",
       "      <td>15752.0</td>\n",
       "      <td>2</td>\n",
       "    </tr>\n",
       "    <tr>\n",
       "      <th>89170</th>\n",
       "      <td>Master’s degree (M.A., M.S., M.Eng., MBA, etc.)</td>\n",
       "      <td>France</td>\n",
       "      <td>64254.0</td>\n",
       "      <td>9</td>\n",
       "    </tr>\n",
       "    <tr>\n",
       "      <th>89171</th>\n",
       "      <td>Master’s degree (M.A., M.S., M.Eng., MBA, etc.)</td>\n",
       "      <td>Greece</td>\n",
       "      <td>61041.0</td>\n",
       "      <td>9</td>\n",
       "    </tr>\n",
       "  </tbody>\n",
       "</table>\n",
       "<p>47825 rows × 4 columns</p>\n",
       "</div>"
      ],
      "text/plain": [
       "                                                 EdLevel  \\\n",
       "1           Bachelor’s degree (B.A., B.S., B.Eng., etc.)   \n",
       "2           Bachelor’s degree (B.A., B.S., B.Eng., etc.)   \n",
       "3           Bachelor’s degree (B.A., B.S., B.Eng., etc.)   \n",
       "4           Bachelor’s degree (B.A., B.S., B.Eng., etc.)   \n",
       "5      Some college/university study without earning ...   \n",
       "...                                                  ...   \n",
       "89162    Master’s degree (M.A., M.S., M.Eng., MBA, etc.)   \n",
       "89166  Some college/university study without earning ...   \n",
       "89167       Bachelor’s degree (B.A., B.S., B.Eng., etc.)   \n",
       "89170    Master’s degree (M.A., M.S., M.Eng., MBA, etc.)   \n",
       "89171    Master’s degree (M.A., M.S., M.Eng., MBA, etc.)   \n",
       "\n",
       "                                                 Country    Salary  \\\n",
       "1                               United States of America  285000.0   \n",
       "2                               United States of America  250000.0   \n",
       "3                               United States of America  156000.0   \n",
       "4                                            Philippines   23456.0   \n",
       "5      United Kingdom of Great Britain and Northern I...   96828.0   \n",
       "...                                                  ...       ...   \n",
       "89162                                             Brazil   50719.0   \n",
       "89166                                            Armenia   16917.0   \n",
       "89167                                              India   15752.0   \n",
       "89170                                             France   64254.0   \n",
       "89171                                             Greece   61041.0   \n",
       "\n",
       "      YearsCodePro  \n",
       "1                9  \n",
       "2               23  \n",
       "3                7  \n",
       "4                4  \n",
       "5               21  \n",
       "...            ...  \n",
       "89162           24  \n",
       "89166            2  \n",
       "89167            2  \n",
       "89170            9  \n",
       "89171            9  \n",
       "\n",
       "[47825 rows x 4 columns]"
      ]
     },
     "execution_count": 6,
     "metadata": {},
     "output_type": "execute_result"
    }
   ],
   "source": [
    "df"
   ]
  },
  {
   "cell_type": "code",
   "execution_count": 7,
   "id": "062f97cc",
   "metadata": {},
   "outputs": [],
   "source": [
    "#leaving all countries with high count value\n",
    "def clean_country(ctr, count):\n",
    "    #store all countries\n",
    "    ctr_dict = {}\n",
    "    for i in range(len(ctr)):\n",
    "        if ctr.values[i] >= count:\n",
    "            ctr_dict[ctr.index[i]] = ctr.index[i]\n",
    "        else:\n",
    "            ctr_dict[ctr.index[i]] = 'Others'\n",
    "    return ctr_dict\n"
   ]
  },
  {
   "cell_type": "code",
   "execution_count": 8,
   "id": "f5fcf3d3",
   "metadata": {},
   "outputs": [
    {
     "data": {
      "text/plain": [
       "{'United States of America': 'United States of America',\n",
       " 'Germany': 'Germany',\n",
       " 'United Kingdom of Great Britain and Northern Ireland': 'United Kingdom of Great Britain and Northern Ireland',\n",
       " 'Canada': 'Canada',\n",
       " 'India': 'India',\n",
       " 'France': 'France',\n",
       " 'Netherlands': 'Netherlands',\n",
       " 'Poland': 'Poland',\n",
       " 'Brazil': 'Brazil',\n",
       " 'Australia': 'Australia',\n",
       " 'Spain': 'Spain',\n",
       " 'Sweden': 'Sweden',\n",
       " 'Italy': 'Italy',\n",
       " 'Switzerland': 'Switzerland',\n",
       " 'Austria': 'Austria',\n",
       " 'Denmark': 'Denmark',\n",
       " 'Czech Republic': 'Czech Republic',\n",
       " 'Norway': 'Norway',\n",
       " 'Portugal': 'Portugal',\n",
       " 'Israel': 'Israel',\n",
       " 'Belgium': 'Belgium',\n",
       " 'Finland': 'Finland',\n",
       " 'Russian Federation': 'Russian Federation',\n",
       " 'Ukraine': 'Ukraine',\n",
       " 'New Zealand': 'New Zealand',\n",
       " 'Romania': 'Romania',\n",
       " 'Turkey': 'Turkey',\n",
       " 'South Africa': 'South Africa',\n",
       " 'Greece': 'Others',\n",
       " 'Mexico': 'Others',\n",
       " 'Hungary': 'Others',\n",
       " 'Ireland': 'Others',\n",
       " 'Colombia': 'Others',\n",
       " 'Argentina': 'Others',\n",
       " 'Pakistan': 'Others',\n",
       " 'Bulgaria': 'Others',\n",
       " 'Iran, Islamic Republic of...': 'Others',\n",
       " 'Serbia': 'Others',\n",
       " 'Japan': 'Others',\n",
       " 'Lithuania': 'Others',\n",
       " 'Slovakia': 'Others',\n",
       " 'Slovenia': 'Others',\n",
       " 'Indonesia': 'Others',\n",
       " 'China': 'Others',\n",
       " 'Croatia': 'Others',\n",
       " 'Bangladesh': 'Others',\n",
       " 'Estonia': 'Others',\n",
       " 'Chile': 'Others',\n",
       " 'Singapore': 'Others',\n",
       " 'Philippines': 'Others',\n",
       " 'Nigeria': 'Others',\n",
       " 'Malaysia': 'Others',\n",
       " 'Viet Nam': 'Others',\n",
       " 'Thailand': 'Others',\n",
       " 'Georgia': 'Others',\n",
       " 'Latvia': 'Others',\n",
       " 'Taiwan': 'Others',\n",
       " 'Sri Lanka': 'Others',\n",
       " 'United Arab Emirates': 'Others',\n",
       " 'Hong Kong (S.A.R.)': 'Others',\n",
       " 'Egypt': 'Others',\n",
       " 'South Korea': 'Others',\n",
       " 'Uruguay': 'Others',\n",
       " 'Nepal': 'Others',\n",
       " 'Peru': 'Others',\n",
       " 'Kenya': 'Others',\n",
       " 'Costa Rica': 'Others',\n",
       " 'Armenia': 'Others',\n",
       " 'Venezuela, Bolivarian Republic of...': 'Others',\n",
       " 'Ecuador': 'Others',\n",
       " 'Bosnia and Herzegovina': 'Others',\n",
       " 'Luxembourg': 'Others',\n",
       " 'Belarus': 'Others',\n",
       " 'Kazakhstan': 'Others',\n",
       " 'Cyprus': 'Others',\n",
       " 'Morocco': 'Others',\n",
       " 'Republic of Korea': 'Others',\n",
       " 'Dominican Republic': 'Others',\n",
       " 'Tunisia': 'Others',\n",
       " 'Guatemala': 'Others',\n",
       " 'Saudi Arabia': 'Others',\n",
       " 'Iceland': 'Others',\n",
       " 'Jordan': 'Others',\n",
       " 'The former Yugoslav Republic of Macedonia': 'Others',\n",
       " 'Montenegro': 'Others',\n",
       " 'Ethiopia': 'Others',\n",
       " 'Malta': 'Others',\n",
       " 'Lebanon': 'Others',\n",
       " 'Paraguay': 'Others',\n",
       " 'Ghana': 'Others',\n",
       " 'Bolivia': 'Others',\n",
       " 'El Salvador': 'Others',\n",
       " 'Republic of Moldova': 'Others',\n",
       " 'Algeria': 'Others',\n",
       " 'Nicaragua': 'Others',\n",
       " 'Albania': 'Others',\n",
       " 'Uzbekistan': 'Others',\n",
       " 'Azerbaijan': 'Others',\n",
       " 'Uganda': 'Others',\n",
       " 'Myanmar': 'Others',\n",
       " 'Nomadic': 'Others',\n",
       " 'Cuba': 'Others',\n",
       " 'United Republic of Tanzania': 'Others',\n",
       " 'Mongolia': 'Others',\n",
       " 'Mauritius': 'Others',\n",
       " 'Iraq': 'Others',\n",
       " 'Syrian Arab Republic': 'Others',\n",
       " 'Honduras': 'Others',\n",
       " 'Cambodia': 'Others',\n",
       " 'Kyrgyzstan': 'Others',\n",
       " 'Palestine': 'Others',\n",
       " 'Afghanistan': 'Others',\n",
       " 'Panama': 'Others',\n",
       " 'Zambia': 'Others',\n",
       " 'Zimbabwe': 'Others',\n",
       " 'Isle of Man': 'Others',\n",
       " 'Kosovo': 'Others',\n",
       " 'Jamaica': 'Others',\n",
       " 'Rwanda': 'Others',\n",
       " 'Maldives': 'Others',\n",
       " 'Somalia': 'Others',\n",
       " 'Benin': 'Others',\n",
       " 'Madagascar': 'Others',\n",
       " 'Cameroon': 'Others',\n",
       " 'Kuwait': 'Others',\n",
       " 'Trinidad and Tobago': 'Others',\n",
       " 'Yemen': 'Others',\n",
       " \"Côte d'Ivoire\": 'Others',\n",
       " 'Oman': 'Others',\n",
       " 'Bahrain': 'Others',\n",
       " 'Mozambique': 'Others',\n",
       " 'Senegal': 'Others',\n",
       " 'Qatar': 'Others',\n",
       " 'Andorra': 'Others',\n",
       " 'Mali': 'Others',\n",
       " 'Swaziland': 'Others',\n",
       " 'Malawi': 'Others',\n",
       " 'Togo': 'Others',\n",
       " 'Turkmenistan': 'Others',\n",
       " 'Niger': 'Others',\n",
       " 'Namibia': 'Others',\n",
       " 'Suriname': 'Others',\n",
       " 'Monaco': 'Others',\n",
       " 'Saint Lucia': 'Others',\n",
       " 'Libyan Arab Jamahiriya': 'Others',\n",
       " 'Djibouti': 'Others',\n",
       " 'Fiji': 'Others',\n",
       " 'Angola': 'Others',\n",
       " 'Brunei Darussalam': 'Others',\n",
       " 'Belize': 'Others',\n",
       " 'Palau': 'Others',\n",
       " 'Barbados': 'Others',\n",
       " \"Lao People's Democratic Republic\": 'Others',\n",
       " 'Saint Kitts and Nevis': 'Others',\n",
       " 'Burkina Faso': 'Others',\n",
       " 'Saint Vincent and the Grenadines': 'Others',\n",
       " 'Guinea': 'Others',\n",
       " 'Sudan': 'Others',\n",
       " 'Cape Verde': 'Others',\n",
       " 'Burundi': 'Others',\n",
       " 'Tajikistan': 'Others',\n",
       " 'Dominica': 'Others',\n",
       " 'Liechtenstein': 'Others',\n",
       " 'Sierra Leone': 'Others',\n",
       " 'Lesotho': 'Others',\n",
       " 'Gabon': 'Others',\n",
       " 'Guinea-Bissau': 'Others',\n",
       " 'Mauritania': 'Others',\n",
       " 'Botswana': 'Others',\n",
       " 'Guyana': 'Others',\n",
       " 'Antigua and Barbuda': 'Others'}"
      ]
     },
     "execution_count": 8,
     "metadata": {},
     "output_type": "execute_result"
    }
   ],
   "source": [
    "ctr_dict = clean_country(df.Country.value_counts(), 350)\n",
    "ctr_dict"
   ]
  },
  {
   "cell_type": "code",
   "execution_count": 9,
   "id": "753884a1",
   "metadata": {},
   "outputs": [
    {
     "data": {
      "text/plain": [
       "1                                 United States of America\n",
       "2                                 United States of America\n",
       "3                                 United States of America\n",
       "4                                                   Others\n",
       "5        United Kingdom of Great Britain and Northern I...\n",
       "                               ...                        \n",
       "89162                                               Brazil\n",
       "89166                                               Others\n",
       "89167                                                India\n",
       "89170                                               France\n",
       "89171                                               Others\n",
       "Name: Country, Length: 47825, dtype: object"
      ]
     },
     "execution_count": 9,
     "metadata": {},
     "output_type": "execute_result"
    }
   ],
   "source": [
    "df.Country = df.Country.map(ctr_dict)\n",
    "df.Country"
   ]
  },
  {
   "cell_type": "code",
   "execution_count": 10,
   "id": "79f2a0da",
   "metadata": {},
   "outputs": [
    {
     "data": {
      "image/png": "[encoded data removed]",
      "text/plain": [
       "<Figure size 1200x900 with 1 Axes>"
      ]
     },
     "metadata": {},
     "output_type": "display_data"
    }
   ],
   "source": [
    "#boxplot to show us average salaries in each country\n",
    "fig, ax = plt.subplots(1,1, figsize=(12,9))\n",
    "df.boxplot('Salary', 'Country', ax=ax)\n",
    "plt.suptitle('Salary($) per Country')\n",
    "plt.ylabel('Salary')\n",
    "plt.xticks(rotation=90)\n",
    "plt.show()"
   ]
  },
  {
   "cell_type": "code",
   "execution_count": 11,
   "id": "8d547158",
   "metadata": {},
   "outputs": [],
   "source": [
    "df = df[df.Salary <= 300000]\n",
    "df = df[df.Salary >= 20000]\n",
    "df = df[df.Country != 'Others']"
   ]
  },
  {
   "cell_type": "code",
   "execution_count": 12,
   "id": "fffb7062",
   "metadata": {},
   "outputs": [
    {
     "data": {
      "image/png": "[encoded data removed]",
      "text/plain": [
       "<Figure size 1200x900 with 1 Axes>"
      ]
     },
     "metadata": {},
     "output_type": "display_data"
    }
   ],
   "source": [
    "fig, ax = plt.subplots(1,1, figsize=(12,9))\n",
    "df.boxplot('Salary', 'Country', ax=ax)\n",
    "plt.suptitle('Salary($) per Country')\n",
    "plt.ylabel('Salary')\n",
    "plt.xticks(rotation=90)\n",
    "plt.show()"
   ]
  },
  {
   "cell_type": "code",
   "execution_count": 13,
   "id": "554f31b8",
   "metadata": {},
   "outputs": [
    {
     "data": {
      "text/plain": [
       "array(['Bachelor’s degree (B.A., B.S., B.Eng., etc.)',\n",
       "       'Some college/university study without earning a degree',\n",
       "       'Master’s degree (M.A., M.S., M.Eng., MBA, etc.)',\n",
       "       'Professional degree (JD, MD, Ph.D, Ed.D, etc.)',\n",
       "       'Associate degree (A.A., A.S., etc.)',\n",
       "       'Secondary school (e.g. American high school, German Realschule or Gymnasium, etc.)',\n",
       "       'Primary/elementary school', 'Something else'], dtype=object)"
      ]
     },
     "execution_count": 13,
     "metadata": {},
     "output_type": "execute_result"
    }
   ],
   "source": [
    "df.EdLevel.unique()"
   ]
  },
  {
   "cell_type": "code",
   "execution_count": 14,
   "id": "7edcc9bb",
   "metadata": {},
   "outputs": [],
   "source": [
    "def clean_education(x):\n",
    "    if x == 'Bachelor’s degree (B.A., B.S., B.Eng., etc.)':\n",
    "        return 'Bachelor\\'s degree'\n",
    "    if x == 'Master’s degree (M.A., M.S., M.Eng., MBA, etc.)':\n",
    "        return 'Master\\'s degree'\n",
    "    if x == 'Professional degree (JD, MD, Ph.D, Ed.D, etc.)':\n",
    "        return 'Post grad'\n",
    "    return 'Lesser than Bachelor’s degree'\n",
    "df.EdLevel = df.EdLevel.apply(clean_education)"
   ]
  },
  {
   "cell_type": "code",
   "execution_count": 15,
   "id": "5e2a9c1f",
   "metadata": {},
   "outputs": [
    {
     "data": {
      "text/html": [
       "<div>\n",
       "<style scoped>\n",
       "    .dataframe tbody tr th:only-of-type {\n",
       "        vertical-align: middle;\n",
       "    }\n",
       "\n",
       "    .dataframe tbody tr th {\n",
       "        vertical-align: top;\n",
       "    }\n",
       "\n",
       "    .dataframe thead th {\n",
       "        text-align: right;\n",
       "    }\n",
       "</style>\n",
       "<table border=\"1\" class=\"dataframe\">\n",
       "  <thead>\n",
       "    <tr style=\"text-align: right;\">\n",
       "      <th></th>\n",
       "      <th>EdLevel</th>\n",
       "      <th>Country</th>\n",
       "      <th>Salary</th>\n",
       "      <th>YearsCodePro</th>\n",
       "    </tr>\n",
       "  </thead>\n",
       "  <tbody>\n",
       "    <tr>\n",
       "      <th>1</th>\n",
       "      <td>Bachelor's degree</td>\n",
       "      <td>United States of America</td>\n",
       "      <td>285000.0</td>\n",
       "      <td>9</td>\n",
       "    </tr>\n",
       "    <tr>\n",
       "      <th>2</th>\n",
       "      <td>Bachelor's degree</td>\n",
       "      <td>United States of America</td>\n",
       "      <td>250000.0</td>\n",
       "      <td>23</td>\n",
       "    </tr>\n",
       "    <tr>\n",
       "      <th>3</th>\n",
       "      <td>Bachelor's degree</td>\n",
       "      <td>United States of America</td>\n",
       "      <td>156000.0</td>\n",
       "      <td>7</td>\n",
       "    </tr>\n",
       "    <tr>\n",
       "      <th>5</th>\n",
       "      <td>Lesser than Bachelor’s degree</td>\n",
       "      <td>United Kingdom of Great Britain and Northern I...</td>\n",
       "      <td>96828.0</td>\n",
       "      <td>21</td>\n",
       "    </tr>\n",
       "    <tr>\n",
       "      <th>6</th>\n",
       "      <td>Lesser than Bachelor’s degree</td>\n",
       "      <td>United States of America</td>\n",
       "      <td>135000.0</td>\n",
       "      <td>3</td>\n",
       "    </tr>\n",
       "    <tr>\n",
       "      <th>...</th>\n",
       "      <td>...</td>\n",
       "      <td>...</td>\n",
       "      <td>...</td>\n",
       "      <td>...</td>\n",
       "    </tr>\n",
       "    <tr>\n",
       "      <th>89155</th>\n",
       "      <td>Lesser than Bachelor’s degree</td>\n",
       "      <td>Canada</td>\n",
       "      <td>63199.0</td>\n",
       "      <td>Less than 1 year</td>\n",
       "    </tr>\n",
       "    <tr>\n",
       "      <th>89156</th>\n",
       "      <td>Bachelor's degree</td>\n",
       "      <td>United States of America</td>\n",
       "      <td>195000.0</td>\n",
       "      <td>8</td>\n",
       "    </tr>\n",
       "    <tr>\n",
       "      <th>89158</th>\n",
       "      <td>Bachelor's degree</td>\n",
       "      <td>Sweden</td>\n",
       "      <td>52981.0</td>\n",
       "      <td>8</td>\n",
       "    </tr>\n",
       "    <tr>\n",
       "      <th>89162</th>\n",
       "      <td>Master's degree</td>\n",
       "      <td>Brazil</td>\n",
       "      <td>50719.0</td>\n",
       "      <td>24</td>\n",
       "    </tr>\n",
       "    <tr>\n",
       "      <th>89170</th>\n",
       "      <td>Master's degree</td>\n",
       "      <td>France</td>\n",
       "      <td>64254.0</td>\n",
       "      <td>9</td>\n",
       "    </tr>\n",
       "  </tbody>\n",
       "</table>\n",
       "<p>36593 rows × 4 columns</p>\n",
       "</div>"
      ],
      "text/plain": [
       "                             EdLevel  \\\n",
       "1                  Bachelor's degree   \n",
       "2                  Bachelor's degree   \n",
       "3                  Bachelor's degree   \n",
       "5      Lesser than Bachelor’s degree   \n",
       "6      Lesser than Bachelor’s degree   \n",
       "...                              ...   \n",
       "89155  Lesser than Bachelor’s degree   \n",
       "89156              Bachelor's degree   \n",
       "89158              Bachelor's degree   \n",
       "89162                Master's degree   \n",
       "89170                Master's degree   \n",
       "\n",
       "                                                 Country    Salary  \\\n",
       "1                               United States of America  285000.0   \n",
       "2                               United States of America  250000.0   \n",
       "3                               United States of America  156000.0   \n",
       "5      United Kingdom of Great Britain and Northern I...   96828.0   \n",
       "6                               United States of America  135000.0   \n",
       "...                                                  ...       ...   \n",
       "89155                                             Canada   63199.0   \n",
       "89156                           United States of America  195000.0   \n",
       "89158                                             Sweden   52981.0   \n",
       "89162                                             Brazil   50719.0   \n",
       "89170                                             France   64254.0   \n",
       "\n",
       "           YearsCodePro  \n",
       "1                     9  \n",
       "2                    23  \n",
       "3                     7  \n",
       "5                    21  \n",
       "6                     3  \n",
       "...                 ...  \n",
       "89155  Less than 1 year  \n",
       "89156                 8  \n",
       "89158                 8  \n",
       "89162                24  \n",
       "89170                 9  \n",
       "\n",
       "[36593 rows x 4 columns]"
      ]
     },
     "execution_count": 15,
     "metadata": {},
     "output_type": "execute_result"
    }
   ],
   "source": [
    "df"
   ]
  },
  {
   "cell_type": "code",
   "execution_count": 16,
   "id": "870dd8c7",
   "metadata": {},
   "outputs": [],
   "source": [
    "df = df.rename({'YearsCodePro':'Experience'}, axis=1)"
   ]
  },
  {
   "cell_type": "code",
   "execution_count": 17,
   "id": "5abe2744",
   "metadata": {},
   "outputs": [
    {
     "data": {
      "text/plain": [
       "array(['9', '23', '7', '21', '3', '15', 'Less than 1 year', '10', '2',\n",
       "       '6', '14', '5', '19', '13', '16', '28', '30', '24', '40', '4',\n",
       "       '25', '12', '20', '11', '8', '18', '50', '27', '17', '43', '26',\n",
       "       '38', '33', '22', '1', '31', '34', '37', '42',\n",
       "       'More than 50 years', '36', '39', '29', '35', '41', '32', '44',\n",
       "       '48', '45', '46', '47', '49'], dtype=object)"
      ]
     },
     "execution_count": 17,
     "metadata": {},
     "output_type": "execute_result"
    }
   ],
   "source": [
    "df.Experience.unique()"
   ]
  },
  {
   "cell_type": "code",
   "execution_count": 18,
   "id": "2dc4dade",
   "metadata": {},
   "outputs": [],
   "source": [
    "def clean_exp(x):\n",
    "    if x == 'Less than 1 year':\n",
    "        return 0.5\n",
    "    if x == 'More than 50 years':\n",
    "        return 50\n",
    "    return float(x)\n",
    "df.Experience = df.Experience.apply(clean_exp)"
   ]
  },
  {
   "cell_type": "code",
   "execution_count": 19,
   "id": "965c8e16",
   "metadata": {},
   "outputs": [],
   "source": [
    "y = df.Salary"
   ]
  },
  {
   "cell_type": "code",
   "execution_count": 20,
   "id": "be27b4c5",
   "metadata": {},
   "outputs": [],
   "source": [
    "df = df.drop(['Salary'], axis=1)"
   ]
  },
  {
   "cell_type": "code",
   "execution_count": 21,
   "id": "9e3a57c4",
   "metadata": {},
   "outputs": [],
   "source": [
    "from sklearn.preprocessing import LabelEncoder"
   ]
  },
  {
   "cell_type": "code",
   "execution_count": 22,
   "id": "8f305bf5",
   "metadata": {},
   "outputs": [
    {
     "data": {
      "text/plain": [
       "array([0, 1, 2, 3])"
      ]
     },
     "execution_count": 22,
     "metadata": {},
     "output_type": "execute_result"
    }
   ],
   "source": [
    "edu_encoder = LabelEncoder()\n",
    "df.EdLevel = edu_encoder.fit_transform(df.EdLevel)\n",
    "df.EdLevel.unique()"
   ]
  },
  {
   "cell_type": "code",
   "execution_count": 23,
   "id": "c1e940b1",
   "metadata": {},
   "outputs": [
    {
     "data": {
      "text/plain": [
       "array([27, 26,  7,  0, 13,  9, 22,  8, 21, 20,  3, 17, 12,  4, 23, 10,  1,\n",
       "       15, 19, 16,  2,  6, 24, 11, 25, 18,  5, 14])"
      ]
     },
     "execution_count": 23,
     "metadata": {},
     "output_type": "execute_result"
    }
   ],
   "source": [
    "ctr_encoder = LabelEncoder()\n",
    "df.Country = ctr_encoder.fit_transform(df.Country)\n",
    "df.Country.unique()"
   ]
  },
  {
   "cell_type": "code",
   "execution_count": 24,
   "id": "bcd4b79b",
   "metadata": {},
   "outputs": [
    {
     "data": {
      "text/html": [
       "<div>\n",
       "<style scoped>\n",
       "    .dataframe tbody tr th:only-of-type {\n",
       "        vertical-align: middle;\n",
       "    }\n",
       "\n",
       "    .dataframe tbody tr th {\n",
       "        vertical-align: top;\n",
       "    }\n",
       "\n",
       "    .dataframe thead th {\n",
       "        text-align: right;\n",
       "    }\n",
       "</style>\n",
       "<table border=\"1\" class=\"dataframe\">\n",
       "  <thead>\n",
       "    <tr style=\"text-align: right;\">\n",
       "      <th></th>\n",
       "      <th>EdLevel</th>\n",
       "      <th>Country</th>\n",
       "      <th>Experience</th>\n",
       "    </tr>\n",
       "  </thead>\n",
       "  <tbody>\n",
       "    <tr>\n",
       "      <th>1</th>\n",
       "      <td>0</td>\n",
       "      <td>27</td>\n",
       "      <td>9.0</td>\n",
       "    </tr>\n",
       "    <tr>\n",
       "      <th>2</th>\n",
       "      <td>0</td>\n",
       "      <td>27</td>\n",
       "      <td>23.0</td>\n",
       "    </tr>\n",
       "    <tr>\n",
       "      <th>3</th>\n",
       "      <td>0</td>\n",
       "      <td>27</td>\n",
       "      <td>7.0</td>\n",
       "    </tr>\n",
       "    <tr>\n",
       "      <th>5</th>\n",
       "      <td>1</td>\n",
       "      <td>26</td>\n",
       "      <td>21.0</td>\n",
       "    </tr>\n",
       "    <tr>\n",
       "      <th>6</th>\n",
       "      <td>1</td>\n",
       "      <td>27</td>\n",
       "      <td>3.0</td>\n",
       "    </tr>\n",
       "    <tr>\n",
       "      <th>...</th>\n",
       "      <td>...</td>\n",
       "      <td>...</td>\n",
       "      <td>...</td>\n",
       "    </tr>\n",
       "    <tr>\n",
       "      <th>89155</th>\n",
       "      <td>1</td>\n",
       "      <td>4</td>\n",
       "      <td>0.5</td>\n",
       "    </tr>\n",
       "    <tr>\n",
       "      <th>89156</th>\n",
       "      <td>0</td>\n",
       "      <td>27</td>\n",
       "      <td>8.0</td>\n",
       "    </tr>\n",
       "    <tr>\n",
       "      <th>89158</th>\n",
       "      <td>0</td>\n",
       "      <td>22</td>\n",
       "      <td>8.0</td>\n",
       "    </tr>\n",
       "    <tr>\n",
       "      <th>89162</th>\n",
       "      <td>2</td>\n",
       "      <td>3</td>\n",
       "      <td>24.0</td>\n",
       "    </tr>\n",
       "    <tr>\n",
       "      <th>89170</th>\n",
       "      <td>2</td>\n",
       "      <td>8</td>\n",
       "      <td>9.0</td>\n",
       "    </tr>\n",
       "  </tbody>\n",
       "</table>\n",
       "<p>36593 rows × 3 columns</p>\n",
       "</div>"
      ],
      "text/plain": [
       "       EdLevel  Country  Experience\n",
       "1            0       27         9.0\n",
       "2            0       27        23.0\n",
       "3            0       27         7.0\n",
       "5            1       26        21.0\n",
       "6            1       27         3.0\n",
       "...        ...      ...         ...\n",
       "89155        1        4         0.5\n",
       "89156        0       27         8.0\n",
       "89158        0       22         8.0\n",
       "89162        2        3        24.0\n",
       "89170        2        8         9.0\n",
       "\n",
       "[36593 rows x 3 columns]"
      ]
     },
     "execution_count": 24,
     "metadata": {},
     "output_type": "execute_result"
    }
   ],
   "source": [
    "df"
   ]
  },
  {
   "cell_type": "code",
   "execution_count": 25,
   "id": "50198ceb",
   "metadata": {},
   "outputs": [],
   "source": [
    "X = df"
   ]
  },
  {
   "cell_type": "code",
   "execution_count": 26,
   "id": "2df74368",
   "metadata": {},
   "outputs": [],
   "source": [
    "from sklearn.model_selection import train_test_split\n",
    "train_X, test_X, train_y, test_y = train_test_split(X, y, test_size=0.2)"
   ]
  },
  {
   "cell_type": "code",
   "execution_count": 27,
   "id": "78046db8",
   "metadata": {
    "scrolled": true
   },
   "outputs": [
    {
     "data": {
      "text/plain": [
       "LinearRegression()"
      ]
     },
     "execution_count": 27,
     "metadata": {},
     "output_type": "execute_result"
    }
   ],
   "source": [
    "#LinearRegression\n",
    "from sklearn.linear_model import LinearRegression\n",
    "lin_reg = LinearRegression()\n",
    "lin_reg.fit(train_X, train_y)"
   ]
  },
  {
   "cell_type": "code",
   "execution_count": 28,
   "id": "c5395b31",
   "metadata": {},
   "outputs": [],
   "source": [
    "y_pred = lin_reg.predict(test_X)"
   ]
  },
  {
   "cell_type": "code",
   "execution_count": 29,
   "id": "a090844e",
   "metadata": {},
   "outputs": [
    {
     "data": {
      "text/plain": [
       "49312.993305784075"
      ]
     },
     "execution_count": 29,
     "metadata": {},
     "output_type": "execute_result"
    }
   ],
   "source": [
    "from sklearn.metrics import mean_squared_error\n",
    "error = np.sqrt(mean_squared_error(test_y, y_pred))\n",
    "error"
   ]
  },
  {
   "cell_type": "code",
   "execution_count": 30,
   "id": "ccde3d9e",
   "metadata": {},
   "outputs": [
    {
     "data": {
      "text/plain": [
       "DecisionTreeRegressor(random_state=1)"
      ]
     },
     "execution_count": 30,
     "metadata": {},
     "output_type": "execute_result"
    }
   ],
   "source": [
    "#DecisionTreeRegressor\n",
    "from sklearn.tree import DecisionTreeRegressor\n",
    "dectree_reg = DecisionTreeRegressor(random_state=1)\n",
    "dectree_reg.fit(train_X, train_y)"
   ]
  },
  {
   "cell_type": "code",
   "execution_count": 31,
   "id": "4a70f8d3",
   "metadata": {},
   "outputs": [
    {
     "data": {
      "text/plain": [
       "{'ccp_alpha': 0.0,\n",
       " 'criterion': 'squared_error',\n",
       " 'max_depth': None,\n",
       " 'max_features': None,\n",
       " 'max_leaf_nodes': None,\n",
       " 'min_impurity_decrease': 0.0,\n",
       " 'min_samples_leaf': 1,\n",
       " 'min_samples_split': 2,\n",
       " 'min_weight_fraction_leaf': 0.0,\n",
       " 'random_state': 1,\n",
       " 'splitter': 'best'}"
      ]
     },
     "execution_count": 31,
     "metadata": {},
     "output_type": "execute_result"
    }
   ],
   "source": [
    "dectree_reg.get_params()"
   ]
  },
  {
   "cell_type": "code",
   "execution_count": 32,
   "id": "6e07c252",
   "metadata": {},
   "outputs": [],
   "source": [
    "y_pred = dectree_reg.predict(test_X)"
   ]
  },
  {
   "cell_type": "code",
   "execution_count": 33,
   "id": "032835ea",
   "metadata": {},
   "outputs": [
    {
     "data": {
      "text/plain": [
       "41726.90402790823"
      ]
     },
     "execution_count": 33,
     "metadata": {},
     "output_type": "execute_result"
    }
   ],
   "source": [
    "error = np.sqrt(mean_squared_error(test_y, y_pred))\n",
    "error"
   ]
  },
  {
   "cell_type": "code",
   "execution_count": 34,
   "id": "c58f91cd",
   "metadata": {},
   "outputs": [
    {
     "data": {
      "text/plain": [
       "RandomForestRegressor(n_estimators=500, random_state=1)"
      ]
     },
     "execution_count": 34,
     "metadata": {},
     "output_type": "execute_result"
    }
   ],
   "source": [
    "#RandomForest\n",
    "from sklearn.ensemble import RandomForestRegressor\n",
    "rnd_frst_reg = RandomForestRegressor(n_estimators=500, random_state=1)\n",
    "rnd_frst_reg.fit(train_X, train_y)"
   ]
  },
  {
   "cell_type": "code",
   "execution_count": 35,
   "id": "97eb586c",
   "metadata": {},
   "outputs": [],
   "source": [
    "y_pred = dectree_reg.predict(test_X)"
   ]
  },
  {
   "cell_type": "code",
   "execution_count": 36,
   "id": "eb23cbbb",
   "metadata": {},
   "outputs": [
    {
     "data": {
      "text/plain": [
       "41726.90402790823"
      ]
     },
     "execution_count": 36,
     "metadata": {},
     "output_type": "execute_result"
    }
   ],
   "source": [
    "error = np.sqrt(mean_squared_error(test_y, y_pred))\n",
    "error"
   ]
  },
  {
   "cell_type": "code",
   "execution_count": 37,
   "id": "ee50d647",
   "metadata": {},
   "outputs": [
    {
     "data": {
      "text/plain": [
       "GridSearchCV(estimator=DecisionTreeRegressor(random_state=0),\n",
       "             param_grid={'max_depth': [None, 2, 4, 6, 8, 10, 12]},\n",
       "             scoring='neg_mean_squared_error')"
      ]
     },
     "execution_count": 37,
     "metadata": {},
     "output_type": "execute_result"
    }
   ],
   "source": [
    "from sklearn.model_selection import GridSearchCV\n",
    "max_depth = [None, 2, 4, 6, 8, 10, 12]\n",
    "param = {\"max_depth\": max_depth}\n",
    "reg = DecisionTreeRegressor(random_state=0)\n",
    "gscv = GridSearchCV(reg, param, scoring=\"neg_mean_squared_error\")\n",
    "gscv.fit(train_X, train_y)"
   ]
  },
  {
   "cell_type": "code",
   "execution_count": 38,
   "id": "57bf7dc5",
   "metadata": {},
   "outputs": [
    {
     "data": {
      "text/plain": [
       "41726.90402790823"
      ]
     },
     "execution_count": 38,
     "metadata": {},
     "output_type": "execute_result"
    }
   ],
   "source": [
    "reg = gscv.best_estimator_\n",
    "reg.fit(train_X, train_y.values)\n",
    "y_pred = dectree_reg.predict(test_X)\n",
    "error = np.sqrt(mean_squared_error(test_y, y_pred))\n",
    "error"
   ]
  },
  {
   "cell_type": "code",
   "execution_count": 39,
   "id": "40446c2e",
   "metadata": {},
   "outputs": [
    {
     "data": {
      "text/html": [
       "<div>\n",
       "<style scoped>\n",
       "    .dataframe tbody tr th:only-of-type {\n",
       "        vertical-align: middle;\n",
       "    }\n",
       "\n",
       "    .dataframe tbody tr th {\n",
       "        vertical-align: top;\n",
       "    }\n",
       "\n",
       "    .dataframe thead th {\n",
       "        text-align: right;\n",
       "    }\n",
       "</style>\n",
       "<table border=\"1\" class=\"dataframe\">\n",
       "  <thead>\n",
       "    <tr style=\"text-align: right;\">\n",
       "      <th></th>\n",
       "      <th>EdLevel</th>\n",
       "      <th>Country</th>\n",
       "      <th>Experience</th>\n",
       "    </tr>\n",
       "  </thead>\n",
       "  <tbody>\n",
       "    <tr>\n",
       "      <th>1</th>\n",
       "      <td>0</td>\n",
       "      <td>27</td>\n",
       "      <td>9.0</td>\n",
       "    </tr>\n",
       "    <tr>\n",
       "      <th>2</th>\n",
       "      <td>0</td>\n",
       "      <td>27</td>\n",
       "      <td>23.0</td>\n",
       "    </tr>\n",
       "    <tr>\n",
       "      <th>3</th>\n",
       "      <td>0</td>\n",
       "      <td>27</td>\n",
       "      <td>7.0</td>\n",
       "    </tr>\n",
       "    <tr>\n",
       "      <th>5</th>\n",
       "      <td>1</td>\n",
       "      <td>26</td>\n",
       "      <td>21.0</td>\n",
       "    </tr>\n",
       "    <tr>\n",
       "      <th>6</th>\n",
       "      <td>1</td>\n",
       "      <td>27</td>\n",
       "      <td>3.0</td>\n",
       "    </tr>\n",
       "    <tr>\n",
       "      <th>...</th>\n",
       "      <td>...</td>\n",
       "      <td>...</td>\n",
       "      <td>...</td>\n",
       "    </tr>\n",
       "    <tr>\n",
       "      <th>89155</th>\n",
       "      <td>1</td>\n",
       "      <td>4</td>\n",
       "      <td>0.5</td>\n",
       "    </tr>\n",
       "    <tr>\n",
       "      <th>89156</th>\n",
       "      <td>0</td>\n",
       "      <td>27</td>\n",
       "      <td>8.0</td>\n",
       "    </tr>\n",
       "    <tr>\n",
       "      <th>89158</th>\n",
       "      <td>0</td>\n",
       "      <td>22</td>\n",
       "      <td>8.0</td>\n",
       "    </tr>\n",
       "    <tr>\n",
       "      <th>89162</th>\n",
       "      <td>2</td>\n",
       "      <td>3</td>\n",
       "      <td>24.0</td>\n",
       "    </tr>\n",
       "    <tr>\n",
       "      <th>89170</th>\n",
       "      <td>2</td>\n",
       "      <td>8</td>\n",
       "      <td>9.0</td>\n",
       "    </tr>\n",
       "  </tbody>\n",
       "</table>\n",
       "<p>36593 rows × 3 columns</p>\n",
       "</div>"
      ],
      "text/plain": [
       "       EdLevel  Country  Experience\n",
       "1            0       27         9.0\n",
       "2            0       27        23.0\n",
       "3            0       27         7.0\n",
       "5            1       26        21.0\n",
       "6            1       27         3.0\n",
       "...        ...      ...         ...\n",
       "89155        1        4         0.5\n",
       "89156        0       27         8.0\n",
       "89158        0       22         8.0\n",
       "89162        2        3        24.0\n",
       "89170        2        8         9.0\n",
       "\n",
       "[36593 rows x 3 columns]"
      ]
     },
     "execution_count": 39,
     "metadata": {},
     "output_type": "execute_result"
    }
   ],
   "source": [
    "X"
   ]
  },
  {
   "cell_type": "code",
   "execution_count": 44,
   "id": "b895234f",
   "metadata": {},
   "outputs": [
    {
     "data": {
      "text/plain": [
       "array([[\"Master's degree\", 'United States of America', '7']], dtype='<U24')"
      ]
     },
     "execution_count": 44,
     "metadata": {},
     "output_type": "execute_result"
    }
   ],
   "source": [
    "inp = np.array([['Master\\'s degree', 'United States of America', 7]])\n",
    "inp"
   ]
  },
  {
   "cell_type": "code",
   "execution_count": 45,
   "id": "f429ff7b",
   "metadata": {},
   "outputs": [
    {
     "data": {
      "text/plain": [
       "array([['2', '27', '7']], dtype='<U24')"
      ]
     },
     "execution_count": 45,
     "metadata": {},
     "output_type": "execute_result"
    }
   ],
   "source": [
    "inp[:,0] = edu_encoder.transform(inp[:,0])\n",
    "inp[:,1] = ctr_encoder.transform(inp[:,1])\n",
    "inp.astype(float)\n",
    "inp"
   ]
  },
  {
   "cell_type": "code",
   "execution_count": 47,
   "id": "e51ce18b",
   "metadata": {},
   "outputs": [
    {
     "name": "stderr",
     "output_type": "stream",
     "text": [
      "D:\\anaconda\\lib\\site-packages\\sklearn\\base.py:450: UserWarning: X does not have valid feature names, but DecisionTreeRegressor was fitted with feature names\n",
      "  warnings.warn(\n"
     ]
    },
    {
     "data": {
      "text/plain": [
       "array([152698.13580247])"
      ]
     },
     "execution_count": 47,
     "metadata": {},
     "output_type": "execute_result"
    }
   ],
   "source": [
    "y_pred = reg.predict(inp)\n",
    "y_pred"
   ]
  },
  {
   "cell_type": "code",
   "execution_count": 48,
   "id": "b6ead6fe",
   "metadata": {},
   "outputs": [],
   "source": [
    "import pickle"
   ]
  },
  {
   "cell_type": "code",
   "execution_count": 49,
   "id": "f3ce0401",
   "metadata": {},
   "outputs": [],
   "source": [
    "data = {'model':reg, 'ctr_enc': ctr_encoder, 'edu_enc': edu_encoder}\n",
    "with open('model.pkl', 'wb') as file:\n",
    "    pickle.dump(data, file)"
   ]
  },
  {
   "cell_type": "code",
   "execution_count": 50,
   "id": "5e25834a",
   "metadata": {},
   "outputs": [],
   "source": [
    "with open('model.pkl', 'rb') as file:\n",
    "    pickle.load(file)\n",
    "loaded_reg = data['model']\n",
    "loaded_ctr_enc = data['ctr_enc']\n",
    "loaded_edu_enc = data['edu_enc']"
   ]
  },
  {
   "cell_type": "code",
   "execution_count": 52,
   "id": "5e7286ca",
   "metadata": {},
   "outputs": [
    {
     "name": "stderr",
     "output_type": "stream",
     "text": [
      "D:\\anaconda\\lib\\site-packages\\sklearn\\base.py:450: UserWarning: X does not have valid feature names, but DecisionTreeRegressor was fitted with feature names\n",
      "  warnings.warn(\n"
     ]
    },
    {
     "data": {
      "text/plain": [
       "array([152698.13580247])"
      ]
     },
     "execution_count": 52,
     "metadata": {},
     "output_type": "execute_result"
    }
   ],
   "source": [
    "y_pred = loaded_reg.predict(inp)\n",
    "y_pred"
   ]
  },
  {
   "cell_type": "code",
   "execution_count": null,
   "id": "7a3120e3",
   "metadata": {},
   "outputs": [],
   "source": []
  }
 ],
 "metadata": {
  "kernelspec": {
   "display_name": "Python 3 (ipykernel)",
   "language": "python",
   "name": "python3"
  },
  "language_info": {
   "codemirror_mode": {
    "name": "ipython",
    "version": 3
   },
   "file_extension": ".py",
   "mimetype": "text/x-python",
   "name": "python",
   "nbconvert_exporter": "python",
   "pygments_lexer": "ipython3",
   "version": "3.9.13"
  }
 },
 "nbformat": 4,
 "nbformat_minor": 5
}
